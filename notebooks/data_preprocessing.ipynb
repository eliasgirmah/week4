{
 "cells": [
  {
   "cell_type": "markdown",
   "id": "35a62bc4-9cde-46e6-acc4-87814a504659",
   "metadata": {},
   "source": [
    "# 1.  Load libraries"
   ]
  },
  {
   "cell_type": "code",
   "execution_count": 3,
   "id": "3bbd119d-de8a-40df-bfec-421bf3c4bebb",
   "metadata": {},
   "outputs": [],
   "source": [
    "# Data Manipulation Libraries\n",
    "import os\n",
    "import pandas as pd\n",
    "import numpy as np\n",
    "\n",
    "# Plotting Libraries\n",
    "from matplotlib import pyplot as plt\n",
    "import seaborn as sns\n",
    "\n",
    "# Machine Learning Libraries\n",
    "from sklearn.preprocessing import MinMaxScaler\n",
    "from sklearn.metrics import mean_squared_error\n",
    "from sklearn.linear_model import LinearRegression\n",
    "from sklearn.tree import DecisionTreeRegressor\n",
    "from sklearn.ensemble import RandomForestRegressor\n",
    "from xgboost import XGBRegressor"
   ]
  },
  {
   "cell_type": "markdown",
   "id": "94567b37-1c1d-4492-a46a-e33cd81db3de",
   "metadata": {},
   "source": [
    "# 2. load data"
   ]
  },
  {
   "cell_type": "code",
   "execution_count": 4,
   "id": "25464570-d6e3-48e5-8736-bf8137b2f40e",
   "metadata": {},
   "outputs": [
    {
     "name": "stdout",
     "output_type": "stream",
     "text": [
      "../data/sample_submission.csv\n",
      "../data/store.csv\n",
      "../data/test.csv\n",
      "../data/train.csv\n"
     ]
    }
   ],
   "source": [
    "for dirname, _, filenames in os.walk('../data/'):\n",
    "    for filename in filenames:\n",
    "        print(os.path.join(dirname, filename))\n",
    "\n"
   ]
  },
  {
   "cell_type": "code",
   "execution_count": 15,
   "id": "0ba1bdc2-a84f-4057-96f8-0e7b2ca73cb2",
   "metadata": {},
   "outputs": [],
   "source": [
    "df_sample=pd.read_csv('../data/sample_submission.csv', low_memory=False)\n",
    "df_store=pd.read_csv('../data/store.csv', low_memory=False)\n",
    "df_test=pd.read_csv('../data/test.csv', low_memory=False)\n",
    "df_train=pd.read_csv('../data/train.csv', low_memory=False)"
   ]
  },
  {
   "cell_type": "markdown",
   "id": "2abcd244-13d3-44c1-a70e-39709468dbbd",
   "metadata": {},
   "source": [
    "# test data"
   ]
  },
  {
   "cell_type": "code",
   "execution_count": 25,
   "id": "d39b8eed-385a-4959-ba41-de686f3c650a",
   "metadata": {},
   "outputs": [
    {
     "name": "stdout",
     "output_type": "stream",
     "text": [
      "df_train shape: (1017209, 9)\n",
      "df_test shape: (41088, 8)\n",
      "df_store shape: (1115, 10)\n"
     ]
    }
   ],
   "source": [
    "print(f\"df_train shape: {df_train.shape}\")\n",
    "print(f\"df_test shape: {df_test.shape}\")\n",
    "print(f\"df_store shape: {df_store.shape}\")"
   ]
  },
  {
   "cell_type": "code",
   "execution_count": 32,
   "id": "b7d0d644-07fb-45dc-aae1-4aaf12a00230",
   "metadata": {},
   "outputs": [
    {
     "name": "stdout",
     "output_type": "stream",
     "text": [
      "<class 'pandas.core.frame.DataFrame'>\n",
      "RangeIndex: 1017209 entries, 0 to 1017208\n",
      "Data columns (total 9 columns):\n",
      " #   Column         Non-Null Count    Dtype \n",
      "---  ------         --------------    ----- \n",
      " 0   Store          1017209 non-null  int64 \n",
      " 1   DayOfWeek      1017209 non-null  int64 \n",
      " 2   Date           1017209 non-null  object\n",
      " 3   Sales          1017209 non-null  int64 \n",
      " 4   Customers      1017209 non-null  int64 \n",
      " 5   Open           1017209 non-null  int64 \n",
      " 6   Promo          1017209 non-null  int64 \n",
      " 7   StateHoliday   1017209 non-null  object\n",
      " 8   SchoolHoliday  1017209 non-null  int64 \n",
      "dtypes: int64(7), object(2)\n",
      "memory usage: 69.8+ MB\n",
      "df_train shape: None\n",
      "<class 'pandas.core.frame.DataFrame'>\n",
      "RangeIndex: 41088 entries, 0 to 41087\n",
      "Data columns (total 8 columns):\n",
      " #   Column         Non-Null Count  Dtype  \n",
      "---  ------         --------------  -----  \n",
      " 0   Id             41088 non-null  int64  \n",
      " 1   Store          41088 non-null  int64  \n",
      " 2   DayOfWeek      41088 non-null  int64  \n",
      " 3   Date           41088 non-null  object \n",
      " 4   Open           41077 non-null  float64\n",
      " 5   Promo          41088 non-null  int64  \n",
      " 6   StateHoliday   41088 non-null  object \n",
      " 7   SchoolHoliday  41088 non-null  int64  \n",
      "dtypes: float64(1), int64(5), object(2)\n",
      "memory usage: 2.5+ MB\n",
      "df_test shape: None\n",
      "<class 'pandas.core.frame.DataFrame'>\n",
      "RangeIndex: 1115 entries, 0 to 1114\n",
      "Data columns (total 10 columns):\n",
      " #   Column                     Non-Null Count  Dtype  \n",
      "---  ------                     --------------  -----  \n",
      " 0   Store                      1115 non-null   int64  \n",
      " 1   StoreType                  1115 non-null   object \n",
      " 2   Assortment                 1115 non-null   object \n",
      " 3   CompetitionDistance        1112 non-null   float64\n",
      " 4   CompetitionOpenSinceMonth  761 non-null    float64\n",
      " 5   CompetitionOpenSinceYear   761 non-null    float64\n",
      " 6   Promo2                     1115 non-null   int64  \n",
      " 7   Promo2SinceWeek            571 non-null    float64\n",
      " 8   Promo2SinceYear            571 non-null    float64\n",
      " 9   PromoInterval              571 non-null    object \n",
      "dtypes: float64(5), int64(2), object(3)\n",
      "memory usage: 87.2+ KB\n",
      "df_store shape: None\n"
     ]
    }
   ],
   "source": [
    "print( \"df_train shape:\", df_train.info())\n",
    "print(\"df_test shape:\", df_test.info())\n",
    "print( \"df_store shape:\", df_store.info())"
   ]
  },
  {
   "cell_type": "markdown",
   "id": "8b51dae7-7e8f-499e-8f51-c46da1a67fa2",
   "metadata": {},
   "source": [
    "# Check Missing Values"
   ]
  },
  {
   "cell_type": "code",
   "execution_count": 33,
   "id": "9015b86c-6c3b-4c6a-904b-4d0db09e9738",
   "metadata": {},
   "outputs": [
    {
     "name": "stdout",
     "output_type": "stream",
     "text": [
      "Missing values in df_train:\n",
      "Store            0\n",
      "DayOfWeek        0\n",
      "Date             0\n",
      "Sales            0\n",
      "Customers        0\n",
      "Open             0\n",
      "Promo            0\n",
      "StateHoliday     0\n",
      "SchoolHoliday    0\n",
      "dtype: int64\n",
      "Missing values in df_test:\n",
      "Id                0\n",
      "Store             0\n",
      "DayOfWeek         0\n",
      "Date              0\n",
      "Open             11\n",
      "Promo             0\n",
      "StateHoliday      0\n",
      "SchoolHoliday     0\n",
      "dtype: int64\n",
      "Missing values in df_store:\n",
      "Store                          0\n",
      "StoreType                      0\n",
      "Assortment                     0\n",
      "CompetitionDistance            3\n",
      "CompetitionOpenSinceMonth    354\n",
      "CompetitionOpenSinceYear     354\n",
      "Promo2                         0\n",
      "Promo2SinceWeek              544\n",
      "Promo2SinceYear              544\n",
      "PromoInterval                544\n",
      "dtype: int64\n"
     ]
    }
   ],
   "source": [
    "# Check for missing values in each dataset\n",
    "print(\"Missing values in df_train:\")\n",
    "print(df_train.isnull().sum())\n",
    "\n",
    "print(\"Missing values in df_test:\")\n",
    "print(df_test.isnull().sum())\n",
    "\n",
    "print(\"Missing values in df_store:\")\n",
    "print(df_store.isnull().sum())\n"
   ]
  },
  {
   "cell_type": "markdown",
   "id": "8d2b527f-9df7-442d-8b6c-b68132d29b92",
   "metadata": {},
   "source": [
    "# Handle Missing Values"
   ]
  },
  {
   "cell_type": "code",
   "execution_count": 35,
   "id": "6feacdcc-f5c1-474b-acd0-8517428df5bc",
   "metadata": {},
   "outputs": [],
   "source": [
    "# Fill missing 'Open' values in df_test with 1 (assuming store was open)\n",
    "df_test['Open'] = df_test['Open'].fillna(1)\n",
    "\n",
    "# Fill missing 'CompetitionDistance' with the median value\n",
    "df_store['CompetitionDistance'] = df_store['CompetitionDistance'].fillna(df_store['CompetitionDistance'].median())\n",
    "\n",
    "# Fill missing 'CompetitionOpenSinceMonth' and 'CompetitionOpenSinceYear' with 0\n",
    "df_store['CompetitionOpenSinceMonth'] = df_store['CompetitionOpenSinceMonth'].fillna(0)\n",
    "df_store['CompetitionOpenSinceYear'] = df_store['CompetitionOpenSinceYear'].fillna(0)\n",
    "\n",
    "# Fill missing 'Promo2SinceWeek' and 'Promo2SinceYear' with 0\n",
    "df_store['Promo2SinceWeek'] = df_store['Promo2SinceWeek'].fillna(0)\n",
    "df_store['Promo2SinceYear'] = df_store['Promo2SinceYear'].fillna(0)\n",
    "\n",
    "# Fill missing 'PromoInterval' with 'No Promo'\n",
    "df_store['PromoInterval'] = df_store['PromoInterval'].fillna('No Promo')\n"
   ]
  },
  {
   "cell_type": "markdown",
   "id": "266b2a3f-96d9-4004-90f8-89ee131816a1",
   "metadata": {},
   "source": [
    "# Verify Missing Values Have Been Handled"
   ]
  },
  {
   "cell_type": "code",
   "execution_count": 36,
   "id": "c1bcea87-b1e8-4690-bf26-a70ea7032743",
   "metadata": {},
   "outputs": [
    {
     "name": "stdout",
     "output_type": "stream",
     "text": [
      "Missing values in df_test after handling:\n",
      "Id               0\n",
      "Store            0\n",
      "DayOfWeek        0\n",
      "Date             0\n",
      "Open             0\n",
      "Promo            0\n",
      "StateHoliday     0\n",
      "SchoolHoliday    0\n",
      "dtype: int64\n",
      "Missing values in df_store after handling:\n",
      "Store                        0\n",
      "StoreType                    0\n",
      "Assortment                   0\n",
      "CompetitionDistance          0\n",
      "CompetitionOpenSinceMonth    0\n",
      "CompetitionOpenSinceYear     0\n",
      "Promo2                       0\n",
      "Promo2SinceWeek              0\n",
      "Promo2SinceYear              0\n",
      "PromoInterval                0\n",
      "dtype: int64\n"
     ]
    }
   ],
   "source": [
    "# Verify that no missing values remain\n",
    "print(\"Missing values in df_test after handling:\")\n",
    "print(df_test.isnull().sum())\n",
    "\n",
    "print(\"Missing values in df_store after handling:\")\n",
    "print(df_store.isnull().sum())\n"
   ]
  },
  {
   "cell_type": "markdown",
   "id": "9eda9006-9985-4746-aaf0-8809b9f9915e",
   "metadata": {},
   "source": [
    "# Feature Engineering\n",
    "## 1. Convert Date Columns to Datetime:"
   ]
  },
  {
   "cell_type": "code",
   "execution_count": 37,
   "id": "daddb2ce-d9f4-46a1-ac11-edfc9d21f42c",
   "metadata": {},
   "outputs": [],
   "source": [
    "df_train['Date'] = pd.to_datetime(df_train['Date'])\n",
    "df_test['Date'] = pd.to_datetime(df_test['Date'])\n"
   ]
  },
  {
   "cell_type": "markdown",
   "id": "a6fdbdb3-b4be-4651-bc1c-617683b4504b",
   "metadata": {},
   "source": [
    "## 2.Extract Features from Date"
   ]
  },
  {
   "cell_type": "code",
   "execution_count": 38,
   "id": "ce902469-4c12-4242-bf19-02da766abb14",
   "metadata": {},
   "outputs": [],
   "source": [
    "# For training data\n",
    "df_train['Year'] = df_train['Date'].dt.year\n",
    "df_train['Month'] = df_train['Date'].dt.month\n",
    "df_train['Day'] = df_train['Date'].dt.day\n",
    "df_train['WeekOfYear'] = df_train['Date'].dt.isocalendar().week\n",
    "\n",
    "# For test data\n",
    "df_test['Year'] = df_test['Date'].dt.year\n",
    "df_test['Month'] = df_test['Date'].dt.month\n",
    "df_test['Day'] = df_test['Date'].dt.day\n",
    "df_test['WeekOfYear'] = df_test['Date'].dt.isocalendar().week\n"
   ]
  },
  {
   "cell_type": "markdown",
   "id": "6074d684-fbe9-4120-85cc-115e917063ba",
   "metadata": {},
   "source": [
    "## 3. Merge Datasets:"
   ]
  },
  {
   "cell_type": "code",
   "execution_count": 40,
   "id": "905cefd8-674d-4410-80fb-4bb4fd94cdbf",
   "metadata": {},
   "outputs": [],
   "source": [
    "# Merge training data with store data\n",
    "df_train = pd.merge(df_train, df_store, on='Store', how='left')\n",
    "\n",
    "# Merge test data with store data\n",
    "df_test = pd.merge(df_test, df_store, on='Store', how='left')\n"
   ]
  },
  {
   "cell_type": "code",
   "execution_count": 41,
   "id": "fb11415e-d5bb-4a76-96a1-b8d07e913c48",
   "metadata": {},
   "outputs": [
    {
     "name": "stdout",
     "output_type": "stream",
     "text": [
      "df_train head after merging:\n",
      "   Store  DayOfWeek       Date  Sales  Customers  Open  Promo StateHoliday  \\\n",
      "0      1          5 2015-07-31   5263        555     1      1            0   \n",
      "1      2          5 2015-07-31   6064        625     1      1            0   \n",
      "2      3          5 2015-07-31   8314        821     1      1            0   \n",
      "3      4          5 2015-07-31  13995       1498     1      1            0   \n",
      "4      5          5 2015-07-31   4822        559     1      1            0   \n",
      "\n",
      "   SchoolHoliday  Year  ...  WeekOfYear  StoreType  Assortment  \\\n",
      "0              1  2015  ...          31          c           a   \n",
      "1              1  2015  ...          31          a           a   \n",
      "2              1  2015  ...          31          a           a   \n",
      "3              1  2015  ...          31          c           c   \n",
      "4              1  2015  ...          31          a           a   \n",
      "\n",
      "  CompetitionDistance CompetitionOpenSinceMonth  CompetitionOpenSinceYear  \\\n",
      "0              1270.0                       9.0                    2008.0   \n",
      "1               570.0                      11.0                    2007.0   \n",
      "2             14130.0                      12.0                    2006.0   \n",
      "3               620.0                       9.0                    2009.0   \n",
      "4             29910.0                       4.0                    2015.0   \n",
      "\n",
      "   Promo2  Promo2SinceWeek  Promo2SinceYear    PromoInterval  \n",
      "0       0              0.0              0.0         No Promo  \n",
      "1       1             13.0           2010.0  Jan,Apr,Jul,Oct  \n",
      "2       1             14.0           2011.0  Jan,Apr,Jul,Oct  \n",
      "3       0              0.0              0.0         No Promo  \n",
      "4       0              0.0              0.0         No Promo  \n",
      "\n",
      "[5 rows x 22 columns]\n",
      "df_test head after merging:\n",
      "   Id  Store  DayOfWeek       Date  Open  Promo StateHoliday  SchoolHoliday  \\\n",
      "0   1      1          4 2015-09-17   1.0      1            0              0   \n",
      "1   2      3          4 2015-09-17   1.0      1            0              0   \n",
      "2   3      7          4 2015-09-17   1.0      1            0              0   \n",
      "3   4      8          4 2015-09-17   1.0      1            0              0   \n",
      "4   5      9          4 2015-09-17   1.0      1            0              0   \n",
      "\n",
      "   Year  Month  ...  WeekOfYear  StoreType Assortment CompetitionDistance  \\\n",
      "0  2015      9  ...          38          c          a              1270.0   \n",
      "1  2015      9  ...          38          a          a             14130.0   \n",
      "2  2015      9  ...          38          a          c             24000.0   \n",
      "3  2015      9  ...          38          a          a              7520.0   \n",
      "4  2015      9  ...          38          a          c              2030.0   \n",
      "\n",
      "   CompetitionOpenSinceMonth  CompetitionOpenSinceYear  Promo2  \\\n",
      "0                        9.0                    2008.0       0   \n",
      "1                       12.0                    2006.0       1   \n",
      "2                        4.0                    2013.0       0   \n",
      "3                       10.0                    2014.0       0   \n",
      "4                        8.0                    2000.0       0   \n",
      "\n",
      "   Promo2SinceWeek  Promo2SinceYear    PromoInterval  \n",
      "0              0.0              0.0         No Promo  \n",
      "1             14.0           2011.0  Jan,Apr,Jul,Oct  \n",
      "2              0.0              0.0         No Promo  \n",
      "3              0.0              0.0         No Promo  \n",
      "4              0.0              0.0         No Promo  \n",
      "\n",
      "[5 rows x 21 columns]\n"
     ]
    }
   ],
   "source": [
    "print(\"df_train head after merging:\")\n",
    "print(df_train.head())\n",
    "\n",
    "print(\"df_test head after merging:\")\n",
    "print(df_test.head())\n"
   ]
  },
  {
   "cell_type": "code",
   "execution_count": 42,
   "id": "92974007-2854-45e0-bb33-dd3e00ff176b",
   "metadata": {},
   "outputs": [
    {
     "name": "stdout",
     "output_type": "stream",
     "text": [
      "Duplicates in df_train: 0\n",
      "Duplicates in df_test: 0\n"
     ]
    }
   ],
   "source": [
    "print(\"Duplicates in df_train:\", df_train.duplicated().sum())\n",
    "print(\"Duplicates in df_test:\", df_test.duplicated().sum())\n"
   ]
  },
  {
   "cell_type": "code",
   "execution_count": 43,
   "id": "f3252b7c-23b5-4bf8-a5aa-eb3a7133babe",
   "metadata": {},
   "outputs": [],
   "source": [
    "df_train.to_csv('../data/processed_train.csv', index=False)\n",
    "df_test.to_csv('../data/processed_test.csv', index=False)\n"
   ]
  },
  {
   "cell_type": "code",
   "execution_count": null,
   "id": "d5a7d350-d412-45b0-ae93-77150763217b",
   "metadata": {},
   "outputs": [],
   "source": []
  }
 ],
 "metadata": {
  "kernelspec": {
   "display_name": "Python 3 (ipykernel)",
   "language": "python",
   "name": "python3"
  },
  "language_info": {
   "codemirror_mode": {
    "name": "ipython",
    "version": 3
   },
   "file_extension": ".py",
   "mimetype": "text/x-python",
   "name": "python",
   "nbconvert_exporter": "python",
   "pygments_lexer": "ipython3",
   "version": "3.12.3"
  }
 },
 "nbformat": 4,
 "nbformat_minor": 5
}
